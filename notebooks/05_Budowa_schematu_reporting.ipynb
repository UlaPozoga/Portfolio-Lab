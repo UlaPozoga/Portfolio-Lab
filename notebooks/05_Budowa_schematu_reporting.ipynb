{
 "cells": [
  {
   "cell_type": "markdown",
   "metadata": {},
   "source": [
    " # Opis notatnika\n",
    " Analiza przygotowana w poprzednim kroku została odebrana pozytywnie. W związku z tym, zostaliśmy poproszeni\n",
    " o przygotowanie raportu na podstawie danych z roku 2020. Ma być on później  wdrożony przez zespół IT na zewnętrzny\n",
    " serwis. Wybór padł na `Dash`.\n",
    "\n",
    " Zadanie wykonamy w dwóch krokach:  \n",
    " 1. Znając wymagania raportu, stworzymy na bazie danych odpowiednie komponenty, które zostaną następnie wykorzystane do wizualizacji.  \n",
    " 1. Stworzymy raport używając `Dash`.\n",
    "\n",
    " Ten notatnik skupia się na odpowiednim przygotowaniu bazy danych pod cele raportowe.\n",
    " \n",
    " W tej części projektu końcowego wcielasz się w rolę BI Engineera, który ma za zadanie stworzyć raport zgodny z wytycznymi biznesowymi dostarczonymi przez klienta."
   ]
  },
  {
   "cell_type": "markdown",
   "metadata": {},
   "source": [
    " # Wymagania biznesowe\n",
    " Po prezentacji wyników analizy na niezależnym spotkaniu, zostały określone następujące obszary raportowania odsetka opóźnień lotów:  \n",
    " 1. Wyświetlanie TOP 10 (w sensie najwyższego odsetka opóźnień) lotnisk na podstawie liczby odlotów, wyświetlona ma być również informacja o liczbie przylotów - widok `top_airports_by_departure`.  \n",
    " 1. Wyświetlenie TOP 10 (w sensie najwyższego odsetka opóźnień) tras lotów. Przy czym istotna dla nas jest kolejność, przykładowo trasa (Warszawa, Paryż) jest inna niż (Paryż, Warszawa). Dodatkowym wymaganiem jest, aby minimalna liczba lotów odbytych na trasie wynosiła co najmniej 10000 przelotów - widok `top_reliability_roads`.  \n",
    " 1. Porównanie roku 2019 vs. 2020, aby śledzić wpływ COVID na realizację lotów. Interesują nas podejścia:  \n",
    "     - miesiąc do miesiąca, przykładowo odsetek opoźnień styczeń 2019 vs. odsetek opoźnień styczeń 2020, odsetek opoźnień luty 2019 vs. odsetek opoźnień luty 2020 itd. - widok `year_to_year_comparision`,  \n",
    "     - dzień do dnia, przykładowo odsetek opoźnień wtorek 2019 vs. odsetek opoźnień wtorek 2020 - widok `day_to_day_comparision`.  \n",
    " 1. Dzienny, czyli jak danego dnia, globalnie wyglądał wskaźnik opóźnień lotów samolotu, tj. odsetek opóźnień 01-01-2019, odsetek opóźnień 02-01-2019 itd."
   ]
  },
  {
   "cell_type": "markdown",
   "metadata": {},
   "source": [
    " # Podejście techniczne do problemu\n",
    " Naszym celem będzie odseparowanie warstwy przygotowania danych (logika raportu) od warstwy prezentacyjnej (wizualizacja).\n",
    " Chcemy zapewnić, aby odpowiednie procesy zajmowały się tylko swoimi zadaniami. \n",
    " \n",
    " > W tym podejściu warstwa prezentacyjna (wykres/raport) nie implementuje logiki biznesowej w celu przetwarzania danych. Innymi słowy, nie chcemy aby przykładowo agregacja była wykonywana w momencie tworzenia wizualizacji.\n",
    "\n",
    " To podejście będzie spójne ze współczesnym sposobem projektowania aplikacji. Ma to też dodatkowy benefit - ze względu na wolumen danych na bazie, nie musimy ich najpierw pobierać - warstwa logiczna je odpowiednio zagreguje i przekaże zdecydowanie mniejszą liczbę wierszy, co przyśpieszy działanie całości.\n",
    "\n",
    " > Logika działania tego notebooka jest zbieżna z tą, którą robiliśmy już na przykładzie `Inicjowania bazy danych` - warto mieć go pod ręką."
   ]
  },
  {
   "cell_type": "markdown",
   "metadata": {},
   "source": [
    " # Przygotowanie bazy danych\n",
    " Na bazie danych, gdzie umieszczone są już dane, wszystko zawarte jest na schemacie `public`. Ponieważ zgodnie z wymaganiami otrzymujemy nowy obszar wykorzystania danych, stworzymy sobie schemat dedykowany - `reporting`.  \n",
    " Dalej stworzymy widoki, które odpowiedzą na zadane wcześniej pytania.\n",
    "\n",
    " > Stworzenie dedykowanego schematu ma więcej korzyści niż nam się wydaje, w ten sposób możemy łatwo wprowadzić zabezpieczenie na dane, które chcemy udostępniać.\n",
    "\n",
    " ## Stworzenie dedykowanego schematu\n",
    " W pliku `reporting.sql` napisz kwerendę, która stworzy (o ile już nie istnieje) schemat `reporting`.\n",
    " Ten temat nie był omawiany w trakcie trwania kursu, jednak łatwo można uzupełnić wiedzę czytając np. [ten](https://www.postgresqltutorial.com/postgresql-administration/postgresql-create-schema/) samouczek."
   ]
  },
  {
   "cell_type": "markdown",
   "metadata": {},
   "source": [
    " # Aktualizacja bazy danych\n",
    " W tym miejscu odpowiednio skonfiguruj połączenie do bazy danych."
   ]
  },
  {
   "cell_type": "markdown",
   "metadata": {},
   "source": [
    " Tutaj zaimportuj potrzebne biblioteki"
   ]
  },
  {
   "cell_type": "code",
   "execution_count": 96,
   "metadata": {},
   "outputs": [],
   "source": [
    "import psycopg2\n",
    "from psycopg2 import connect"
   ]
  },
  {
   "cell_type": "markdown",
   "metadata": {},
   "source": [
    " ## Konfiguracja połączenia\n",
    " Tutaj uzupełnij konfigurację połączenia"
   ]
  },
  {
   "cell_type": "code",
   "execution_count": 97,
   "metadata": {},
   "outputs": [],
   "source": [
    "username = 'postgres'\n",
    "password = 'SQLisFun'\n",
    "\n",
    "host = 'localhost'\n",
    "database = 'airlines'\n",
    "port = None"
   ]
  },
  {
   "cell_type": "markdown",
   "metadata": {},
   "source": [
    " Tutaj zdefiniuj zmienną `con` oraz `cursor`"
   ]
  },
  {
   "cell_type": "code",
   "execution_count": 98,
   "metadata": {},
   "outputs": [
    {
     "name": "stdout",
     "output_type": "stream",
     "text": [
      "Połączenie udane.\n"
     ]
    }
   ],
   "source": [
    "con = psycopg2.connect(user=username, password=password, host=host, database=database)\n",
    "print(\"Połączenie udane.\")\n",
    "cursor = con.cursor()"
   ]
  },
  {
   "cell_type": "markdown",
   "metadata": {},
   "source": [
    " ## Wczytanie pliku `reporting.sql`\n",
    " Z katalogu `sql` wczytaj plik `reporting.sql`"
   ]
  },
  {
   "cell_type": "code",
   "execution_count": 99,
   "metadata": {},
   "outputs": [
    {
     "name": "stdout",
     "output_type": "stream",
     "text": [
      "/*\n",
      "Tutaj zdefiniuj schemÄ™ `reporting`\n",
      "*/\n",
      "\n",
      "/*\n",
      "Tutaj napisz definicjÄ™ widoku reporting.flight, ktĂłra:\n",
      "- bÄ™dzie usuwaÄ‡ dane o lotach anulowanych `cancelled = 0`\n",
      "- bÄ™dzie zawieraÄ‡ kolumnÄ™ `is_delayed`, zgodnie z wczeĹ›niejszÄ… definicjÄ… tj. `is_delayed = 1 if dep_delay_new > 0 else 0` (zaimplementowana w SQL)\n",
      "\n",
      "WskazĂłwka:\n",
      "- SQL - analiza danych > DzieĹ„ 4 Proceduralny SQL > WyraĹĽenia warunkowe\n",
      "- SQL - analiza danych > Przygotowanie do zjazdu 2 > Widoki\n",
      "*/\n",
      "CREATE OR REPLACE VIEW reporting.flight as\n",
      "SELECT 1\n",
      ";\n",
      "/*\n",
      "Tutaj napisz definicjÄ™ widoku reporting.top_reliability_roads, ktĂłra bÄ™dzie zawieraĹ‚a nastÄ™pujÄ…ce kolumny:\n",
      "- `origin_airport_id`,\n",
      "- `origin_airport_name`,\n",
      "- `dest_airport_id`,\n",
      "- `dest_airport_name`,\n",
      "- `year`,\n",
      "- `cnt` - jako liczba wykonananych lotĂłw na danej trasie,\n",
      "- `reliability` - jako odsetek opĂłĹşnieĹ„ na danej trasie,\n",
      "- `nb` - numerowane od 1, 2, 3 wedĹ‚ug kolumny `reliability`. W przypadku takich samych wartoĹ›ci powino zwrĂłciÄ‡ 1, 2, 2, 3... \n",
      "PamiÄ™taj o tym, ĹĽe w wyniku powinny pojawiÄ‡ siÄ™ takie trasy, na ktĂłrych odbyĹ‚o siÄ™ ponad 10000 lotĂłw.\n",
      "\n",
      "WskazĂłwka:\n",
      "- SQL - analiza danych > DzieĹ„ 2 Relacje oraz JOIN > JOIN\n",
      "- SQL - analiza danych > DzieĹ„ 3 - Analiza danych > Grupowanie\n",
      "- SQL - analiza danych > DzieĹ„ 1 Podstawy SQL > Aliasowanie\n",
      "- SQL - analiza danych > DzieĹ„ 1 Podstawy SQL > Podzapytania\n",
      "*/\n",
      "CREATE OR REPLACE VIEW reporting.top_reliability_roads AS\n",
      "SELECT 1\n",
      ";\n",
      "/*\n",
      "Tutaj napisz definicjÄ™ widoku reporting.year_to_year_comparision, ktĂłra bÄ™dzie zawieraĹ‚ nastÄ™pujÄ…ce kolumny:\n",
      "- `year`\n",
      "- `month`,\n",
      "- `flights_amount`\n",
      "- `reliability`\n",
      "*/\n",
      "CREATE OR REPLACE VIEW reporting.year_to_year_comparision AS\n",
      "SELECT 1\n",
      ";\n",
      "/*\n",
      "Tutaj napisz definicjÄ™ widoku reporting.day_to_day_comparision, ktĂłry bÄ™dzie zawieraĹ‚ nastÄ™pujÄ…ce kolumny:\n",
      "- `year`\n",
      "- `day_of_week`\n",
      "- `flights_amount`\n",
      "*/\n",
      "CREATE OR REPLACE VIEW reporting.day_to_day_comparision AS\n",
      "SELECT 1\n",
      ";\n",
      "/*\n",
      "Tutaj napisz definicjÄ™ widoku reporting.day_by_day_reliability, ktory bÄ™dzie zawieraĹ‚ nastÄ™pujÄ…ce kolumny:\n",
      "- `date` jako zĹ‚oĹĽenie kolumn `year`, `month`, `day`, powinna byÄ‡ typu `date`\n",
      "- `reliability` jako odsetek opĂłĹşnieĹ„ danego dnia\n",
      "\n",
      "WskazĂłwki:\n",
      "- formaty dat w postgresql: [klik](https://www.postgresql.org/docs/13/functions-formatting.html),\n",
      "- jeĹ›li chcesz dodaÄ‡ zera na poczÄ…tek liczby np. `1` > `01`, posĹ‚uĹĽ siÄ™ metodÄ… `LPAD`: [przykĹ‚ad](https://stackoverflow.com/questions/26379446/padding-zeros-to-the-left-in-postgresql),\n",
      "- do konwertowania ciÄ…gu znakĂłw na datÄ™ najwygodniej w Postgres uĹĽyÄ‡ `to_date`: [przykĹ‚ad](https://www.postgresqltutorial.com/postgresql-date-functions/postgresql-to_date/)\n",
      "- do zĹ‚Ä…czenia kilku kolumn / wartoĹ›ci typu string, uĹĽywa siÄ™ operatora `||`, przykĹ‚adowo: SELECT 'a' || 'b' as example\n",
      "\n",
      "Uwaga: Nie dodawaj tutaj na koĹ„cu srednika - przy uĹĽywaniu split, pojawi siÄ™ pusta kwerenda, co bÄ™dzie skutkowaĹ‚o pĂłĹşniejszym bĹ‚Ä™dem przy prĂłbie wykonania skryptu z poziomu notatnika.\n",
      "*/\n",
      "CREATE OR REPLACE VIEW reporting.day_by_day_reliability AS\n",
      "SELECT 1\n"
     ]
    }
   ],
   "source": [
    "reporting = open(r'C:\\Users\\urszu\\OneDrive\\Pulpit\\CodersLab - cwiczenia\\Projekt koncowy\\sql\\reporting.sql')\n",
    "reporting = str(reporting.read())\n",
    "print(reporting)"
   ]
  },
  {
   "cell_type": "markdown",
   "metadata": {},
   "source": [
    " W tym miejscu odpowiednio rozdziel zawartość pliku `reporting.sql` na mniejsze kwerendy używając `;`"
   ]
  },
  {
   "cell_type": "code",
   "execution_count": 100,
   "metadata": {},
   "outputs": [
    {
     "name": "stdout",
     "output_type": "stream",
     "text": [
      "['/*\\nTutaj zdefiniuj schemÄ™ `reporting`\\n*/\\n\\n/*\\nTutaj napisz definicjÄ™ widoku reporting.flight, ktĂłra:\\n- bÄ™dzie usuwaÄ‡ dane o lotach anulowanych `cancelled = 0`\\n- bÄ™dzie zawieraÄ‡ kolumnÄ™ `is_delayed`, zgodnie z wczeĹ›niejszÄ… definicjÄ… tj. `is_delayed = 1 if dep_delay_new > 0 else 0` (zaimplementowana w SQL)\\n\\nWskazĂłwka:\\n- SQL - analiza danych > DzieĹ„ 4 Proceduralny SQL > WyraĹĽenia warunkowe\\n- SQL - analiza danych > Przygotowanie do zjazdu 2 > Widoki\\n*/\\nCREATE OR REPLACE VIEW reporting.flight as\\nSELECT 1\\n', '\\n/*\\nTutaj napisz definicjÄ™ widoku reporting.top_reliability_roads, ktĂłra bÄ™dzie zawieraĹ‚a nastÄ™pujÄ…ce kolumny:\\n- `origin_airport_id`,\\n- `origin_airport_name`,\\n- `dest_airport_id`,\\n- `dest_airport_name`,\\n- `year`,\\n- `cnt` - jako liczba wykonananych lotĂłw na danej trasie,\\n- `reliability` - jako odsetek opĂłĹşnieĹ„ na danej trasie,\\n- `nb` - numerowane od 1, 2, 3 wedĹ‚ug kolumny `reliability`. W przypadku takich samych wartoĹ›ci powino zwrĂłciÄ‡ 1, 2, 2, 3... \\nPamiÄ™taj o tym, ĹĽe w wyniku powinny pojawiÄ‡ siÄ™ takie trasy, na ktĂłrych odbyĹ‚o siÄ™ ponad 10000 lotĂłw.\\n\\nWskazĂłwka:\\n- SQL - analiza danych > DzieĹ„ 2 Relacje oraz JOIN > JOIN\\n- SQL - analiza danych > DzieĹ„ 3 - Analiza danych > Grupowanie\\n- SQL - analiza danych > DzieĹ„ 1 Podstawy SQL > Aliasowanie\\n- SQL - analiza danych > DzieĹ„ 1 Podstawy SQL > Podzapytania\\n*/\\nCREATE OR REPLACE VIEW reporting.top_reliability_roads AS\\nSELECT 1\\n', '\\n/*\\nTutaj napisz definicjÄ™ widoku reporting.year_to_year_comparision, ktĂłra bÄ™dzie zawieraĹ‚ nastÄ™pujÄ…ce kolumny:\\n- `year`\\n- `month`,\\n- `flights_amount`\\n- `reliability`\\n*/\\nCREATE OR REPLACE VIEW reporting.year_to_year_comparision AS\\nSELECT 1\\n', '\\n/*\\nTutaj napisz definicjÄ™ widoku reporting.day_to_day_comparision, ktĂłry bÄ™dzie zawieraĹ‚ nastÄ™pujÄ…ce kolumny:\\n- `year`\\n- `day_of_week`\\n- `flights_amount`\\n*/\\nCREATE OR REPLACE VIEW reporting.day_to_day_comparision AS\\nSELECT 1\\n', \"\\n/*\\nTutaj napisz definicjÄ™ widoku reporting.day_by_day_reliability, ktory bÄ™dzie zawieraĹ‚ nastÄ™pujÄ…ce kolumny:\\n- `date` jako zĹ‚oĹĽenie kolumn `year`, `month`, `day`, powinna byÄ‡ typu `date`\\n- `reliability` jako odsetek opĂłĹşnieĹ„ danego dnia\\n\\nWskazĂłwki:\\n- formaty dat w postgresql: [klik](https://www.postgresql.org/docs/13/functions-formatting.html),\\n- jeĹ›li chcesz dodaÄ‡ zera na poczÄ…tek liczby np. `1` > `01`, posĹ‚uĹĽ siÄ™ metodÄ… `LPAD`: [przykĹ‚ad](https://stackoverflow.com/questions/26379446/padding-zeros-to-the-left-in-postgresql),\\n- do konwertowania ciÄ…gu znakĂłw na datÄ™ najwygodniej w Postgres uĹĽyÄ‡ `to_date`: [przykĹ‚ad](https://www.postgresqltutorial.com/postgresql-date-functions/postgresql-to_date/)\\n- do zĹ‚Ä…czenia kilku kolumn / wartoĹ›ci typu string, uĹĽywa siÄ™ operatora `||`, przykĹ‚adowo: SELECT 'a' || 'b' as example\\n\\nUwaga: Nie dodawaj tutaj na koĹ„cu srednika - przy uĹĽywaniu split, pojawi siÄ™ pusta kwerenda, co bÄ™dzie skutkowaĹ‚o pĂłĹşniejszym bĹ‚Ä™dem przy prĂłbie wykonania skryptu z poziomu notatnika.\\n*/\\nCREATE OR REPLACE VIEW reporting.day_by_day_reliability AS\\nSELECT 1\"]\n"
     ]
    }
   ],
   "source": [
    "separated = reporting.split(';')\n",
    "\n",
    "print(separated)"
   ]
  },
  {
   "cell_type": "code",
   "execution_count": 101,
   "metadata": {},
   "outputs": [
    {
     "name": "stdout",
     "output_type": "stream",
     "text": [
      "/*\n",
      "Tutaj zdefiniuj schemÄ™ `reporting`\n",
      "*/\n",
      "\n",
      "/*\n",
      "Tutaj napisz definicjÄ™ widoku reporting.flight, ktĂłra:\n",
      "- bÄ™dzie usuwaÄ‡ dane o lotach anulowanych `cancelled = 0`\n",
      "- bÄ™dzie zawieraÄ‡ kolumnÄ™ `is_delayed`, zgodnie z wczeĹ›niejszÄ… definicjÄ… tj. `is_delayed = 1 if dep_delay_new > 0 else 0` (zaimplementowana w SQL)\n",
      "\n",
      "WskazĂłwka:\n",
      "- SQL - analiza danych > DzieĹ„ 4 Proceduralny SQL > WyraĹĽenia warunkowe\n",
      "- SQL - analiza danych > Przygotowanie do zjazdu 2 > Widoki\n",
      "*/\n",
      "CREATE OR REPLACE VIEW reporting.flight as\n",
      "SELECT 1\n",
      "\n",
      "\n",
      "/*\n",
      "Tutaj napisz definicjÄ™ widoku reporting.top_reliability_roads, ktĂłra bÄ™dzie zawieraĹ‚a nastÄ™pujÄ…ce kolumny:\n",
      "- `origin_airport_id`,\n",
      "- `origin_airport_name`,\n",
      "- `dest_airport_id`,\n",
      "- `dest_airport_name`,\n",
      "- `year`,\n",
      "- `cnt` - jako liczba wykonananych lotĂłw na danej trasie,\n",
      "- `reliability` - jako odsetek opĂłĹşnieĹ„ na danej trasie,\n",
      "- `nb` - numerowane od 1, 2, 3 wedĹ‚ug kolumny `reliability`. W przypadku takich samych wartoĹ›ci powino zwrĂłciÄ‡ 1, 2, 2, 3... \n",
      "PamiÄ™taj o tym, ĹĽe w wyniku powinny pojawiÄ‡ siÄ™ takie trasy, na ktĂłrych odbyĹ‚o siÄ™ ponad 10000 lotĂłw.\n",
      "\n",
      "WskazĂłwka:\n",
      "- SQL - analiza danych > DzieĹ„ 2 Relacje oraz JOIN > JOIN\n",
      "- SQL - analiza danych > DzieĹ„ 3 - Analiza danych > Grupowanie\n",
      "- SQL - analiza danych > DzieĹ„ 1 Podstawy SQL > Aliasowanie\n",
      "- SQL - analiza danych > DzieĹ„ 1 Podstawy SQL > Podzapytania\n",
      "*/\n",
      "CREATE OR REPLACE VIEW reporting.top_reliability_roads AS\n",
      "SELECT 1\n",
      "\n",
      "\n",
      "/*\n",
      "Tutaj napisz definicjÄ™ widoku reporting.year_to_year_comparision, ktĂłra bÄ™dzie zawieraĹ‚ nastÄ™pujÄ…ce kolumny:\n",
      "- `year`\n",
      "- `month`,\n",
      "- `flights_amount`\n",
      "- `reliability`\n",
      "*/\n",
      "CREATE OR REPLACE VIEW reporting.year_to_year_comparision AS\n",
      "SELECT 1\n",
      "\n",
      "\n",
      "/*\n",
      "Tutaj napisz definicjÄ™ widoku reporting.day_to_day_comparision, ktĂłry bÄ™dzie zawieraĹ‚ nastÄ™pujÄ…ce kolumny:\n",
      "- `year`\n",
      "- `day_of_week`\n",
      "- `flights_amount`\n",
      "*/\n",
      "CREATE OR REPLACE VIEW reporting.day_to_day_comparision AS\n",
      "SELECT 1\n",
      "\n",
      "\n",
      "/*\n",
      "Tutaj napisz definicjÄ™ widoku reporting.day_by_day_reliability, ktory bÄ™dzie zawieraĹ‚ nastÄ™pujÄ…ce kolumny:\n",
      "- `date` jako zĹ‚oĹĽenie kolumn `year`, `month`, `day`, powinna byÄ‡ typu `date`\n",
      "- `reliability` jako odsetek opĂłĹşnieĹ„ danego dnia\n",
      "\n",
      "WskazĂłwki:\n",
      "- formaty dat w postgresql: [klik](https://www.postgresql.org/docs/13/functions-formatting.html),\n",
      "- jeĹ›li chcesz dodaÄ‡ zera na poczÄ…tek liczby np. `1` > `01`, posĹ‚uĹĽ siÄ™ metodÄ… `LPAD`: [przykĹ‚ad](https://stackoverflow.com/questions/26379446/padding-zeros-to-the-left-in-postgresql),\n",
      "- do konwertowania ciÄ…gu znakĂłw na datÄ™ najwygodniej w Postgres uĹĽyÄ‡ `to_date`: [przykĹ‚ad](https://www.postgresqltutorial.com/postgresql-date-functions/postgresql-to_date/)\n",
      "- do zĹ‚Ä…czenia kilku kolumn / wartoĹ›ci typu string, uĹĽywa siÄ™ operatora `||`, przykĹ‚adowo: SELECT 'a' || 'b' as example\n",
      "\n",
      "Uwaga: Nie dodawaj tutaj na koĹ„cu srednika - przy uĹĽywaniu split, pojawi siÄ™ pusta kwerenda, co bÄ™dzie skutkowaĹ‚o pĂłĹşniejszym bĹ‚Ä™dem przy prĂłbie wykonania skryptu z poziomu notatnika.\n",
      "*/\n",
      "CREATE OR REPLACE VIEW reporting.day_by_day_reliability AS\n",
      "SELECT 1\n"
     ]
    }
   ],
   "source": [
    "for i in separated:\n",
    "    print(i)"
   ]
  },
  {
   "cell_type": "markdown",
   "metadata": {},
   "source": [
    " W tym miejscu wykonaj każdą z kwerend, aby zainicjować strukturę bazy danych"
   ]
  },
  {
   "cell_type": "code",
   "execution_count": 102,
   "metadata": {},
   "outputs": [
    {
     "name": "stdout",
     "output_type": "stream",
     "text": [
      "/*\n",
      "Tutaj zdefiniuj schemÄ™ `reporting`\n",
      "*/\n",
      "\n",
      "/*\n",
      "Tutaj napisz definicjÄ™ widoku reporting.flight, ktĂłra:\n",
      "- bÄ™dzie usuwaÄ‡ dane o lotach anulowanych `cancelled = 0`\n",
      "- bÄ™dzie zawieraÄ‡ kolumnÄ™ `is_delayed`, zgodnie z wczeĹ›niejszÄ… definicjÄ… tj. `is_delayed = 1 if dep_delay_new > 0 else 0` (zaimplementowana w SQL)\n",
      "\n",
      "WskazĂłwka:\n",
      "- SQL - analiza danych > DzieĹ„ 4 Proceduralny SQL > WyraĹĽenia warunkowe\n",
      "- SQL - analiza danych > Przygotowanie do zjazdu 2 > Widoki\n",
      "*/\n",
      "CREATE OR REPLACE VIEW reporting.flight as\n",
      "SELECT 1\n",
      "\n"
     ]
    }
   ],
   "source": [
    "print(separated[0])"
   ]
  },
  {
   "cell_type": "code",
   "execution_count": 103,
   "metadata": {},
   "outputs": [],
   "source": [
    "cursor.execute('CREATE SCHEMA IF NOT EXISTS reporting;')"
   ]
  },
  {
   "cell_type": "code",
   "execution_count": 104,
   "metadata": {},
   "outputs": [],
   "source": [
    "cursor.execute(\n",
    "    'CREATE OR REPLACE VIEW reporting.flight AS SELECT * , CASE WHEN dep_delay_new > 0 THEN 1 ELSE 0 END AS is_delayed FROM flight WHERE cancelled <> 0; '\n",
    ")"
   ]
  },
  {
   "cell_type": "code",
   "execution_count": 105,
   "metadata": {},
   "outputs": [
    {
     "name": "stdout",
     "output_type": "stream",
     "text": [
      "\n",
      "/*\n",
      "Tutaj napisz definicjÄ™ widoku reporting.top_reliability_roads, ktĂłra bÄ™dzie zawieraĹ‚a nastÄ™pujÄ…ce kolumny:\n",
      "- `origin_airport_id`,\n",
      "- `origin_airport_name`,\n",
      "- `dest_airport_id`,\n",
      "- `dest_airport_name`,\n",
      "- `year`,\n",
      "- `cnt` - jako liczba wykonananych lotĂłw na danej trasie,\n",
      "- `reliability` - jako odsetek opĂłĹşnieĹ„ na danej trasie,\n",
      "- `nb` - numerowane od 1, 2, 3 wedĹ‚ug kolumny `reliability`. W przypadku takich samych wartoĹ›ci powino zwrĂłciÄ‡ 1, 2, 2, 3... \n",
      "PamiÄ™taj o tym, ĹĽe w wyniku powinny pojawiÄ‡ siÄ™ takie trasy, na ktĂłrych odbyĹ‚o siÄ™ ponad 10000 lotĂłw.\n",
      "\n",
      "WskazĂłwka:\n",
      "- SQL - analiza danych > DzieĹ„ 2 Relacje oraz JOIN > JOIN\n",
      "- SQL - analiza danych > DzieĹ„ 3 - Analiza danych > Grupowanie\n",
      "- SQL - analiza danych > DzieĹ„ 1 Podstawy SQL > Aliasowanie\n",
      "- SQL - analiza danych > DzieĹ„ 1 Podstawy SQL > Podzapytania\n",
      "*/\n",
      "CREATE OR REPLACE VIEW reporting.top_reliability_roads AS\n",
      "SELECT 1\n",
      "\n"
     ]
    }
   ],
   "source": [
    "print(separated[1])"
   ]
  },
  {
   "cell_type": "code",
   "execution_count": 108,
   "metadata": {},
   "outputs": [],
   "source": [
    "cursor.execute(\n",
    "    \"CREATE OR REPLACE VIEW reporting.top_reliability_roads AS SELECT a.origin_airport_id, b.name AS origin_airport_name, a.dest_airport_id, c.name AS dest_airport_name,a.year,b.name || ' - ' || c.name AS route,count(*) AS cnt, (COUNT(*) FILTER (WHERE dep_delay_new > 0) *1.0 / COUNT(*)) AS reliability, DENSE_RANK() OVER (reliability_window) as nb FROM flight AS a LEFT JOIN airport_list AS b USING (origin_airport_id) LEFT JOIN airport_list AS c ON a.dest_airport_id = c.origin_airport_id GROUP BY  a.origin_airport_id, b.name, a.dest_airport_id, c.name, a.year, b.name || ' - ' || c.name HAVING count(*) > 10000 WINDOW reliability_window AS (ORDER BY (COUNT(*) FILTER (WHERE dep_delay_new > 0) *1.0 / COUNT(*)) DESC) ORDER BY reliability DESC;\"\n",
    ")"
   ]
  },
  {
   "cell_type": "code",
   "execution_count": 106,
   "metadata": {},
   "outputs": [
    {
     "name": "stdout",
     "output_type": "stream",
     "text": [
      "\n",
      "/*\n",
      "Tutaj napisz definicjÄ™ widoku reporting.year_to_year_comparision, ktĂłra bÄ™dzie zawieraĹ‚ nastÄ™pujÄ…ce kolumny:\n",
      "- `year`\n",
      "- `month`,\n",
      "- `flights_amount`\n",
      "- `reliability`\n",
      "*/\n",
      "CREATE OR REPLACE VIEW reporting.year_to_year_comparision AS\n",
      "SELECT 1\n",
      "\n"
     ]
    }
   ],
   "source": [
    "print(separated[2])"
   ]
  },
  {
   "cell_type": "code",
   "execution_count": 109,
   "metadata": {},
   "outputs": [],
   "source": [
    "cursor.execute(\n",
    "    \"CREATE OR REPLACE VIEW reporting.year_to_year_comparision AS SELECT year, month, count(*) as flight_amount, (COUNT(*) FILTER (WHERE dep_delay_new > 0) * 1.0 / COUNT(*)) AS reliability FROM flight GROUP BY year, month;\"\n",
    ")"
   ]
  },
  {
   "cell_type": "code",
   "execution_count": 110,
   "metadata": {},
   "outputs": [
    {
     "name": "stdout",
     "output_type": "stream",
     "text": [
      "\n",
      "/*\n",
      "Tutaj napisz definicjÄ™ widoku reporting.day_to_day_comparision, ktĂłry bÄ™dzie zawieraĹ‚ nastÄ™pujÄ…ce kolumny:\n",
      "- `year`\n",
      "- `day_of_week`\n",
      "- `flights_amount`\n",
      "*/\n",
      "CREATE OR REPLACE VIEW reporting.day_to_day_comparision AS\n",
      "SELECT 1\n",
      "\n"
     ]
    }
   ],
   "source": [
    "print(separated[3])"
   ]
  },
  {
   "cell_type": "code",
   "execution_count": 111,
   "metadata": {},
   "outputs": [],
   "source": [
    "cursor.execute(\n",
    "    \"CREATE OR REPLACE VIEW reporting.day_to_day_comparision AS SELECT year, day_of_week, count(*) as flight_amount FROM flight GROUP BY year, day_of_week;\"\n",
    ")"
   ]
  },
  {
   "cell_type": "code",
   "execution_count": 112,
   "metadata": {},
   "outputs": [
    {
     "name": "stdout",
     "output_type": "stream",
     "text": [
      "\n",
      "/*\n",
      "Tutaj napisz definicjÄ™ widoku reporting.day_by_day_reliability, ktory bÄ™dzie zawieraĹ‚ nastÄ™pujÄ…ce kolumny:\n",
      "- `date` jako zĹ‚oĹĽenie kolumn `year`, `month`, `day`, powinna byÄ‡ typu `date`\n",
      "- `reliability` jako odsetek opĂłĹşnieĹ„ danego dnia\n",
      "\n",
      "WskazĂłwki:\n",
      "- formaty dat w postgresql: [klik](https://www.postgresql.org/docs/13/functions-formatting.html),\n",
      "- jeĹ›li chcesz dodaÄ‡ zera na poczÄ…tek liczby np. `1` > `01`, posĹ‚uĹĽ siÄ™ metodÄ… `LPAD`: [przykĹ‚ad](https://stackoverflow.com/questions/26379446/padding-zeros-to-the-left-in-postgresql),\n",
      "- do konwertowania ciÄ…gu znakĂłw na datÄ™ najwygodniej w Postgres uĹĽyÄ‡ `to_date`: [przykĹ‚ad](https://www.postgresqltutorial.com/postgresql-date-functions/postgresql-to_date/)\n",
      "- do zĹ‚Ä…czenia kilku kolumn / wartoĹ›ci typu string, uĹĽywa siÄ™ operatora `||`, przykĹ‚adowo: SELECT 'a' || 'b' as example\n",
      "\n",
      "Uwaga: Nie dodawaj tutaj na koĹ„cu srednika - przy uĹĽywaniu split, pojawi siÄ™ pusta kwerenda, co bÄ™dzie skutkowaĹ‚o pĂłĹşniejszym bĹ‚Ä™dem przy prĂłbie wykonania skryptu z poziomu notatnika.\n",
      "*/\n",
      "CREATE OR REPLACE VIEW reporting.day_by_day_reliability AS\n",
      "SELECT 1\n"
     ]
    }
   ],
   "source": [
    "print(separated[4])"
   ]
  },
  {
   "cell_type": "code",
   "execution_count": 113,
   "metadata": {},
   "outputs": [],
   "source": [
    "cursor.execute(\n",
    "    \"CREATE OR REPLACE VIEW reporting.day_by_day_reliability AS SELECT TO_DATE(year || '-' || LPAD(month::text, 2, '0') || '-' || LPAD(day_of_month::text, 2, '0'), 'YYYY-MM-DD') AS combined_date, (COUNT(*) FILTER (WHERE dep_delay_new > 0) * 1.0 / COUNT(*)) AS reliability FROM flight GROUP BY  year, month, day_of_month;\"\n",
    ")"
   ]
  },
  {
   "cell_type": "markdown",
   "metadata": {},
   "source": [
    " Zatwierdzenie wszystkich operacji na bazie, czyli stworzenie widoków"
   ]
  },
  {
   "cell_type": "code",
   "execution_count": 114,
   "metadata": {},
   "outputs": [],
   "source": [
    "con.commit()"
   ]
  },
  {
   "cell_type": "markdown",
   "metadata": {},
   "source": [
    " ### Sprawdzenie"
   ]
  },
  {
   "cell_type": "code",
   "execution_count": 115,
   "metadata": {},
   "outputs": [],
   "source": [
    "# Ten kod chyba wygląda znajomo....\n",
    "# istnienie widoków możemy sprawdzić tak samo jak tabele\n",
    "def check_if_table_exists(table_name):\n",
    "    msg = f\"Sprawdzam czy istnieje tabela {table_name}\"\n",
    "    print(msg)\n",
    "\n",
    "    query = f\"select 1 from {table_name}\"\n",
    "    # jeżeli tabela nie istnieje, ten krok zwróci wyjątek\n",
    "    cursor.execute(query)\n",
    "    print('OK!')"
   ]
  },
  {
   "cell_type": "code",
   "execution_count": 116,
   "metadata": {},
   "outputs": [],
   "source": [
    "views_to_test = [\n",
    "    'reporting.flight',\n",
    "    'reporting.top_reliability_roads',\n",
    "    'reporting.year_to_year_comparision',\n",
    "    'reporting.day_to_day_comparision',\n",
    "    'reporting.day_by_day_reliability'\n",
    "]"
   ]
  },
  {
   "cell_type": "code",
   "execution_count": 117,
   "metadata": {},
   "outputs": [
    {
     "name": "stdout",
     "output_type": "stream",
     "text": [
      "Sprawdzam czy istnieje tabela reporting.flight\n",
      "OK!\n",
      "Sprawdzam czy istnieje tabela reporting.top_reliability_roads\n",
      "OK!\n",
      "Sprawdzam czy istnieje tabela reporting.year_to_year_comparision\n",
      "OK!\n",
      "Sprawdzam czy istnieje tabela reporting.day_to_day_comparision\n",
      "OK!\n",
      "Sprawdzam czy istnieje tabela reporting.day_by_day_reliability\n",
      "OK!\n"
     ]
    }
   ],
   "source": [
    "for view in views_to_test:\n",
    "    check_if_table_exists(view)"
   ]
  },
  {
   "cell_type": "code",
   "execution_count": 118,
   "metadata": {},
   "outputs": [
    {
     "name": "stdout",
     "output_type": "stream",
     "text": [
      "Wszystko wygląda OK :) Możesz przejść do kolejnego zadania.\n"
     ]
    }
   ],
   "source": [
    "con.close()\n",
    "msg = \"Wszystko wygląda OK :) Możesz przejść do kolejnego zadania.\"\n",
    "print(msg)"
   ]
  },
  {
   "cell_type": "markdown",
   "metadata": {},
   "source": [
    " # Podsumownie\n",
    " W tym notatniku stworzyliśmy nowy schemat - `reporting`, którego zadaniem jest przygotowanie naszych danych\n",
    " do wizualizacji. Dalsza część pracy będzie polegała na wyświetleniu w wizualnie atrakcyjny sposób danych w interaktywnym raporcie stworzonym\n",
    " z pomocą `Dash`."
   ]
  }
 ],
 "metadata": {
  "kernelspec": {
   "display_name": "Python 3 (ipykernel)",
   "language": "python",
   "name": "python3"
  },
  "language_info": {
   "codemirror_mode": {
    "name": "ipython",
    "version": 3
   },
   "file_extension": ".py",
   "mimetype": "text/x-python",
   "name": "python",
   "nbconvert_exporter": "python",
   "pygments_lexer": "ipython3",
   "version": "3.11.4"
  },
  "vscode": {
   "interpreter": {
    "hash": "38d75d0df746d7f75dd34c5d1915af59cb55786647bd68b8d9064425d7680b12"
   }
  }
 },
 "nbformat": 4,
 "nbformat_minor": 2
}
